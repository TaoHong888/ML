{
 "cells": [
  {
   "cell_type": "markdown",
   "metadata": {},
   "source": [
    "# Q1"
   ]
  },
  {
   "cell_type": "code",
   "execution_count": 4,
   "metadata": {
    "ExecuteTime": {
     "end_time": "2019-11-21T06:38:47.861336Z",
     "start_time": "2019-11-21T06:38:46.289171Z"
    }
   },
   "outputs": [
    {
     "name": "stdout",
     "output_type": "stream",
     "text": [
      "Files already downloaded and verified\n",
      "Files already downloaded and verified\n"
     ]
    }
   ],
   "source": [
    "#1a Download\n",
    "import torch\n",
    "import torchvision\n",
    "import torchvision.transforms as transforms\n",
    "transform = transforms.Compose(\n",
    "    [transforms.ToTensor(),\n",
    "     transforms.Normalize((0.5, 0.5, 0.5), (0.5, 0.5, 0.5))])\n",
    "\n",
    "trainset = torchvision.datasets.CIFAR10(root='./data', train=True,\n",
    "                                        download=True, transform=transform)\n",
    "trainloader = torch.utils.data.DataLoader(trainset, batch_size=4,\n",
    "                                          shuffle=False, num_workers=2)\n",
    "\n",
    "testset = torchvision.datasets.CIFAR10(root='./data', train=False,\n",
    "                                       download=True, transform=transform)\n",
    "testloader = torch.utils.data.DataLoader(testset, batch_size=4,\n",
    "                                         shuffle=False, num_workers=2)\n",
    "\n",
    "classes = ('plane', 'car', 'bird', 'cat',\n",
    "           'deer', 'dog', 'frog', 'horse', 'ship', 'truck')"
   ]
  },
  {
   "cell_type": "code",
   "execution_count": 5,
   "metadata": {
    "ExecuteTime": {
     "end_time": "2019-11-21T06:38:54.548153Z",
     "start_time": "2019-11-21T06:38:53.751543Z"
    }
   },
   "outputs": [
    {
     "name": "stdout",
     "output_type": "stream",
     "text": [
      "400\t"
     ]
    },
    {
     "ename": "RuntimeError",
     "evalue": "received 0 items of ancdata",
     "output_type": "error",
     "traceback": [
      "\u001b[0;31m---------------------------------------------------------------------------\u001b[0m",
      "\u001b[0;31mRuntimeError\u001b[0m                              Traceback (most recent call last)",
      "\u001b[0;32m<ipython-input-5-3d0c140a538f>\u001b[0m in \u001b[0;36m<module>\u001b[0;34m\u001b[0m\n\u001b[1;32m     10\u001b[0m             \u001b[0mprint\u001b[0m\u001b[0;34m(\u001b[0m\u001b[0mi\u001b[0m\u001b[0;34m,\u001b[0m\u001b[0mend\u001b[0m \u001b[0;34m=\u001b[0m\u001b[0;34m'\\t'\u001b[0m\u001b[0;34m)\u001b[0m\u001b[0;34m\u001b[0m\u001b[0;34m\u001b[0m\u001b[0m\n\u001b[1;32m     11\u001b[0m     \u001b[0;32mreturn\u001b[0m \u001b[0mtorch\u001b[0m\u001b[0;34m.\u001b[0m\u001b[0mcat\u001b[0m\u001b[0;34m(\u001b[0m\u001b[0mX\u001b[0m\u001b[0;34m,\u001b[0m\u001b[0maxis\u001b[0m\u001b[0;34m=\u001b[0m\u001b[0;36m0\u001b[0m\u001b[0;34m)\u001b[0m\u001b[0;34m,\u001b[0m\u001b[0mtorch\u001b[0m\u001b[0;34m.\u001b[0m\u001b[0mcat\u001b[0m\u001b[0;34m(\u001b[0m\u001b[0my\u001b[0m\u001b[0;34m,\u001b[0m\u001b[0maxis\u001b[0m\u001b[0;34m=\u001b[0m\u001b[0;36m0\u001b[0m\u001b[0;34m)\u001b[0m\u001b[0;34m\u001b[0m\u001b[0;34m\u001b[0m\u001b[0m\n\u001b[0;32m---> 12\u001b[0;31m \u001b[0mtrain_X\u001b[0m\u001b[0;34m,\u001b[0m\u001b[0mtrain_y\u001b[0m \u001b[0;34m=\u001b[0m \u001b[0mreaddata\u001b[0m\u001b[0;34m(\u001b[0m\u001b[0mtrainloader\u001b[0m\u001b[0;34m)\u001b[0m\u001b[0;34m\u001b[0m\u001b[0;34m\u001b[0m\u001b[0m\n\u001b[0m\u001b[1;32m     13\u001b[0m \u001b[0mtest_X\u001b[0m\u001b[0;34m,\u001b[0m\u001b[0mtest_y\u001b[0m \u001b[0;34m=\u001b[0m \u001b[0mreaddata\u001b[0m\u001b[0;34m(\u001b[0m\u001b[0mtestloader\u001b[0m\u001b[0;34m)\u001b[0m\u001b[0;34m\u001b[0m\u001b[0;34m\u001b[0m\u001b[0m\n",
      "\u001b[0;32m<ipython-input-5-3d0c140a538f>\u001b[0m in \u001b[0;36mreaddata\u001b[0;34m(loader)\u001b[0m\n\u001b[1;32m      3\u001b[0m     \u001b[0mX\u001b[0m\u001b[0;34m,\u001b[0m\u001b[0my\u001b[0m \u001b[0;34m=\u001b[0m \u001b[0;34m[\u001b[0m\u001b[0;34m]\u001b[0m\u001b[0;34m,\u001b[0m\u001b[0;34m[\u001b[0m\u001b[0;34m]\u001b[0m\u001b[0;34m\u001b[0m\u001b[0;34m\u001b[0m\u001b[0m\n\u001b[1;32m      4\u001b[0m     \u001b[0mi\u001b[0m \u001b[0;34m=\u001b[0m \u001b[0;36m0\u001b[0m\u001b[0;34m\u001b[0m\u001b[0;34m\u001b[0m\u001b[0m\n\u001b[0;32m----> 5\u001b[0;31m     \u001b[0;32mfor\u001b[0m \u001b[0mimages\u001b[0m\u001b[0;34m,\u001b[0m \u001b[0mlabels\u001b[0m \u001b[0;32min\u001b[0m \u001b[0mloader\u001b[0m\u001b[0;34m:\u001b[0m\u001b[0;34m\u001b[0m\u001b[0;34m\u001b[0m\u001b[0m\n\u001b[0m\u001b[1;32m      6\u001b[0m         \u001b[0mi\u001b[0m\u001b[0;34m+=\u001b[0m\u001b[0;36m1\u001b[0m\u001b[0;34m\u001b[0m\u001b[0;34m\u001b[0m\u001b[0m\n\u001b[1;32m      7\u001b[0m         \u001b[0mX\u001b[0m\u001b[0;34m.\u001b[0m\u001b[0mappend\u001b[0m\u001b[0;34m(\u001b[0m\u001b[0mimages\u001b[0m\u001b[0;34m)\u001b[0m\u001b[0;34m\u001b[0m\u001b[0;34m\u001b[0m\u001b[0m\n",
      "\u001b[0;32m/usr/lib/python3.8/site-packages/torch/utils/data/dataloader.py\u001b[0m in \u001b[0;36m__next__\u001b[0;34m(self)\u001b[0m\n\u001b[1;32m    802\u001b[0m \u001b[0;34m\u001b[0m\u001b[0m\n\u001b[1;32m    803\u001b[0m             \u001b[0;32massert\u001b[0m \u001b[0;32mnot\u001b[0m \u001b[0mself\u001b[0m\u001b[0;34m.\u001b[0m\u001b[0m_shutdown\u001b[0m \u001b[0;32mand\u001b[0m \u001b[0mself\u001b[0m\u001b[0;34m.\u001b[0m\u001b[0m_tasks_outstanding\u001b[0m \u001b[0;34m>\u001b[0m \u001b[0;36m0\u001b[0m\u001b[0;34m\u001b[0m\u001b[0;34m\u001b[0m\u001b[0m\n\u001b[0;32m--> 804\u001b[0;31m             \u001b[0midx\u001b[0m\u001b[0;34m,\u001b[0m \u001b[0mdata\u001b[0m \u001b[0;34m=\u001b[0m \u001b[0mself\u001b[0m\u001b[0;34m.\u001b[0m\u001b[0m_get_data\u001b[0m\u001b[0;34m(\u001b[0m\u001b[0;34m)\u001b[0m\u001b[0;34m\u001b[0m\u001b[0;34m\u001b[0m\u001b[0m\n\u001b[0m\u001b[1;32m    805\u001b[0m             \u001b[0mself\u001b[0m\u001b[0;34m.\u001b[0m\u001b[0m_tasks_outstanding\u001b[0m \u001b[0;34m-=\u001b[0m \u001b[0;36m1\u001b[0m\u001b[0;34m\u001b[0m\u001b[0;34m\u001b[0m\u001b[0m\n\u001b[1;32m    806\u001b[0m \u001b[0;34m\u001b[0m\u001b[0m\n",
      "\u001b[0;32m/usr/lib/python3.8/site-packages/torch/utils/data/dataloader.py\u001b[0m in \u001b[0;36m_get_data\u001b[0;34m(self)\u001b[0m\n\u001b[1;32m    769\u001b[0m         \u001b[0;32melse\u001b[0m\u001b[0;34m:\u001b[0m\u001b[0;34m\u001b[0m\u001b[0;34m\u001b[0m\u001b[0m\n\u001b[1;32m    770\u001b[0m             \u001b[0;32mwhile\u001b[0m \u001b[0;32mTrue\u001b[0m\u001b[0;34m:\u001b[0m\u001b[0;34m\u001b[0m\u001b[0;34m\u001b[0m\u001b[0m\n\u001b[0;32m--> 771\u001b[0;31m                 \u001b[0msuccess\u001b[0m\u001b[0;34m,\u001b[0m \u001b[0mdata\u001b[0m \u001b[0;34m=\u001b[0m \u001b[0mself\u001b[0m\u001b[0;34m.\u001b[0m\u001b[0m_try_get_data\u001b[0m\u001b[0;34m(\u001b[0m\u001b[0;34m)\u001b[0m\u001b[0;34m\u001b[0m\u001b[0;34m\u001b[0m\u001b[0m\n\u001b[0m\u001b[1;32m    772\u001b[0m                 \u001b[0;32mif\u001b[0m \u001b[0msuccess\u001b[0m\u001b[0;34m:\u001b[0m\u001b[0;34m\u001b[0m\u001b[0;34m\u001b[0m\u001b[0m\n\u001b[1;32m    773\u001b[0m                     \u001b[0;32mreturn\u001b[0m \u001b[0mdata\u001b[0m\u001b[0;34m\u001b[0m\u001b[0;34m\u001b[0m\u001b[0m\n",
      "\u001b[0;32m/usr/lib/python3.8/site-packages/torch/utils/data/dataloader.py\u001b[0m in \u001b[0;36m_try_get_data\u001b[0;34m(self, timeout)\u001b[0m\n\u001b[1;32m    722\u001b[0m         \u001b[0;31m#   (bool: whether successfully get data, any: data if successful else None)\u001b[0m\u001b[0;34m\u001b[0m\u001b[0;34m\u001b[0m\u001b[0;34m\u001b[0m\u001b[0m\n\u001b[1;32m    723\u001b[0m         \u001b[0;32mtry\u001b[0m\u001b[0;34m:\u001b[0m\u001b[0;34m\u001b[0m\u001b[0;34m\u001b[0m\u001b[0m\n\u001b[0;32m--> 724\u001b[0;31m             \u001b[0mdata\u001b[0m \u001b[0;34m=\u001b[0m \u001b[0mself\u001b[0m\u001b[0;34m.\u001b[0m\u001b[0m_data_queue\u001b[0m\u001b[0;34m.\u001b[0m\u001b[0mget\u001b[0m\u001b[0;34m(\u001b[0m\u001b[0mtimeout\u001b[0m\u001b[0;34m=\u001b[0m\u001b[0mtimeout\u001b[0m\u001b[0;34m)\u001b[0m\u001b[0;34m\u001b[0m\u001b[0;34m\u001b[0m\u001b[0m\n\u001b[0m\u001b[1;32m    725\u001b[0m             \u001b[0;32mreturn\u001b[0m \u001b[0;34m(\u001b[0m\u001b[0;32mTrue\u001b[0m\u001b[0;34m,\u001b[0m \u001b[0mdata\u001b[0m\u001b[0;34m)\u001b[0m\u001b[0;34m\u001b[0m\u001b[0;34m\u001b[0m\u001b[0m\n\u001b[1;32m    726\u001b[0m         \u001b[0;32mexcept\u001b[0m \u001b[0mException\u001b[0m \u001b[0;32mas\u001b[0m \u001b[0me\u001b[0m\u001b[0;34m:\u001b[0m\u001b[0;34m\u001b[0m\u001b[0;34m\u001b[0m\u001b[0m\n",
      "\u001b[0;32m/usr/lib/python3.8/multiprocessing/queues.py\u001b[0m in \u001b[0;36mget\u001b[0;34m(self, block, timeout)\u001b[0m\n\u001b[1;32m    114\u001b[0m                 \u001b[0mself\u001b[0m\u001b[0;34m.\u001b[0m\u001b[0m_rlock\u001b[0m\u001b[0;34m.\u001b[0m\u001b[0mrelease\u001b[0m\u001b[0;34m(\u001b[0m\u001b[0;34m)\u001b[0m\u001b[0;34m\u001b[0m\u001b[0;34m\u001b[0m\u001b[0m\n\u001b[1;32m    115\u001b[0m         \u001b[0;31m# unserialize the data after having released the lock\u001b[0m\u001b[0;34m\u001b[0m\u001b[0;34m\u001b[0m\u001b[0;34m\u001b[0m\u001b[0m\n\u001b[0;32m--> 116\u001b[0;31m         \u001b[0;32mreturn\u001b[0m \u001b[0m_ForkingPickler\u001b[0m\u001b[0;34m.\u001b[0m\u001b[0mloads\u001b[0m\u001b[0;34m(\u001b[0m\u001b[0mres\u001b[0m\u001b[0;34m)\u001b[0m\u001b[0;34m\u001b[0m\u001b[0;34m\u001b[0m\u001b[0m\n\u001b[0m\u001b[1;32m    117\u001b[0m \u001b[0;34m\u001b[0m\u001b[0m\n\u001b[1;32m    118\u001b[0m     \u001b[0;32mdef\u001b[0m \u001b[0mqsize\u001b[0m\u001b[0;34m(\u001b[0m\u001b[0mself\u001b[0m\u001b[0;34m)\u001b[0m\u001b[0;34m:\u001b[0m\u001b[0;34m\u001b[0m\u001b[0;34m\u001b[0m\u001b[0m\n",
      "\u001b[0;32m/usr/lib/python3.8/site-packages/torch/multiprocessing/reductions.py\u001b[0m in \u001b[0;36mrebuild_storage_fd\u001b[0;34m(cls, df, size)\u001b[0m\n\u001b[1;32m    292\u001b[0m                     \u001b[0;32mraise\u001b[0m\u001b[0;34m\u001b[0m\u001b[0;34m\u001b[0m\u001b[0m\n\u001b[1;32m    293\u001b[0m     \u001b[0;32melse\u001b[0m\u001b[0;34m:\u001b[0m\u001b[0;34m\u001b[0m\u001b[0;34m\u001b[0m\u001b[0m\n\u001b[0;32m--> 294\u001b[0;31m         \u001b[0mfd\u001b[0m \u001b[0;34m=\u001b[0m \u001b[0mdf\u001b[0m\u001b[0;34m.\u001b[0m\u001b[0mdetach\u001b[0m\u001b[0;34m(\u001b[0m\u001b[0;34m)\u001b[0m\u001b[0;34m\u001b[0m\u001b[0;34m\u001b[0m\u001b[0m\n\u001b[0m\u001b[1;32m    295\u001b[0m     \u001b[0;32mtry\u001b[0m\u001b[0;34m:\u001b[0m\u001b[0;34m\u001b[0m\u001b[0;34m\u001b[0m\u001b[0m\n\u001b[1;32m    296\u001b[0m         \u001b[0mstorage\u001b[0m \u001b[0;34m=\u001b[0m \u001b[0mstorage_from_cache\u001b[0m\u001b[0;34m(\u001b[0m\u001b[0mcls\u001b[0m\u001b[0;34m,\u001b[0m \u001b[0mfd_id\u001b[0m\u001b[0;34m(\u001b[0m\u001b[0mfd\u001b[0m\u001b[0;34m)\u001b[0m\u001b[0;34m)\u001b[0m\u001b[0;34m\u001b[0m\u001b[0;34m\u001b[0m\u001b[0m\n",
      "\u001b[0;32m/usr/lib/python3.8/multiprocessing/resource_sharer.py\u001b[0m in \u001b[0;36mdetach\u001b[0;34m(self)\u001b[0m\n\u001b[1;32m     56\u001b[0m             \u001b[0;34m'''Get the fd.  This should only be called once.'''\u001b[0m\u001b[0;34m\u001b[0m\u001b[0;34m\u001b[0m\u001b[0m\n\u001b[1;32m     57\u001b[0m             \u001b[0;32mwith\u001b[0m \u001b[0m_resource_sharer\u001b[0m\u001b[0;34m.\u001b[0m\u001b[0mget_connection\u001b[0m\u001b[0;34m(\u001b[0m\u001b[0mself\u001b[0m\u001b[0;34m.\u001b[0m\u001b[0m_id\u001b[0m\u001b[0;34m)\u001b[0m \u001b[0;32mas\u001b[0m \u001b[0mconn\u001b[0m\u001b[0;34m:\u001b[0m\u001b[0;34m\u001b[0m\u001b[0;34m\u001b[0m\u001b[0m\n\u001b[0;32m---> 58\u001b[0;31m                 \u001b[0;32mreturn\u001b[0m \u001b[0mreduction\u001b[0m\u001b[0;34m.\u001b[0m\u001b[0mrecv_handle\u001b[0m\u001b[0;34m(\u001b[0m\u001b[0mconn\u001b[0m\u001b[0;34m)\u001b[0m\u001b[0;34m\u001b[0m\u001b[0;34m\u001b[0m\u001b[0m\n\u001b[0m\u001b[1;32m     59\u001b[0m \u001b[0;34m\u001b[0m\u001b[0m\n\u001b[1;32m     60\u001b[0m \u001b[0;34m\u001b[0m\u001b[0m\n",
      "\u001b[0;32m/usr/lib/python3.8/multiprocessing/reduction.py\u001b[0m in \u001b[0;36mrecv_handle\u001b[0;34m(conn)\u001b[0m\n\u001b[1;32m    187\u001b[0m         \u001b[0;34m'''Receive a handle over a local connection.'''\u001b[0m\u001b[0;34m\u001b[0m\u001b[0;34m\u001b[0m\u001b[0m\n\u001b[1;32m    188\u001b[0m         \u001b[0;32mwith\u001b[0m \u001b[0msocket\u001b[0m\u001b[0;34m.\u001b[0m\u001b[0mfromfd\u001b[0m\u001b[0;34m(\u001b[0m\u001b[0mconn\u001b[0m\u001b[0;34m.\u001b[0m\u001b[0mfileno\u001b[0m\u001b[0;34m(\u001b[0m\u001b[0;34m)\u001b[0m\u001b[0;34m,\u001b[0m \u001b[0msocket\u001b[0m\u001b[0;34m.\u001b[0m\u001b[0mAF_UNIX\u001b[0m\u001b[0;34m,\u001b[0m \u001b[0msocket\u001b[0m\u001b[0;34m.\u001b[0m\u001b[0mSOCK_STREAM\u001b[0m\u001b[0;34m)\u001b[0m \u001b[0;32mas\u001b[0m \u001b[0ms\u001b[0m\u001b[0;34m:\u001b[0m\u001b[0;34m\u001b[0m\u001b[0;34m\u001b[0m\u001b[0m\n\u001b[0;32m--> 189\u001b[0;31m             \u001b[0;32mreturn\u001b[0m \u001b[0mrecvfds\u001b[0m\u001b[0;34m(\u001b[0m\u001b[0ms\u001b[0m\u001b[0;34m,\u001b[0m \u001b[0;36m1\u001b[0m\u001b[0;34m)\u001b[0m\u001b[0;34m[\u001b[0m\u001b[0;36m0\u001b[0m\u001b[0;34m]\u001b[0m\u001b[0;34m\u001b[0m\u001b[0;34m\u001b[0m\u001b[0m\n\u001b[0m\u001b[1;32m    190\u001b[0m \u001b[0;34m\u001b[0m\u001b[0m\n\u001b[1;32m    191\u001b[0m     \u001b[0;32mdef\u001b[0m \u001b[0mDupFd\u001b[0m\u001b[0;34m(\u001b[0m\u001b[0mfd\u001b[0m\u001b[0;34m)\u001b[0m\u001b[0;34m:\u001b[0m\u001b[0;34m\u001b[0m\u001b[0;34m\u001b[0m\u001b[0m\n",
      "\u001b[0;32m/usr/lib/python3.8/multiprocessing/reduction.py\u001b[0m in \u001b[0;36mrecvfds\u001b[0;34m(sock, size)\u001b[0m\n\u001b[1;32m    162\u001b[0m                 \u001b[0msock\u001b[0m\u001b[0;34m.\u001b[0m\u001b[0msend\u001b[0m\u001b[0;34m(\u001b[0m\u001b[0;34mb'A'\u001b[0m\u001b[0;34m)\u001b[0m\u001b[0;34m\u001b[0m\u001b[0;34m\u001b[0m\u001b[0m\n\u001b[1;32m    163\u001b[0m             \u001b[0;32mif\u001b[0m \u001b[0mlen\u001b[0m\u001b[0;34m(\u001b[0m\u001b[0mancdata\u001b[0m\u001b[0;34m)\u001b[0m \u001b[0;34m!=\u001b[0m \u001b[0;36m1\u001b[0m\u001b[0;34m:\u001b[0m\u001b[0;34m\u001b[0m\u001b[0;34m\u001b[0m\u001b[0m\n\u001b[0;32m--> 164\u001b[0;31m                 raise RuntimeError('received %d items of ancdata' %\n\u001b[0m\u001b[1;32m    165\u001b[0m                                    len(ancdata))\n\u001b[1;32m    166\u001b[0m             \u001b[0mcmsg_level\u001b[0m\u001b[0;34m,\u001b[0m \u001b[0mcmsg_type\u001b[0m\u001b[0;34m,\u001b[0m \u001b[0mcmsg_data\u001b[0m \u001b[0;34m=\u001b[0m \u001b[0mancdata\u001b[0m\u001b[0;34m[\u001b[0m\u001b[0;36m0\u001b[0m\u001b[0;34m]\u001b[0m\u001b[0;34m\u001b[0m\u001b[0;34m\u001b[0m\u001b[0m\n",
      "\u001b[0;31mRuntimeError\u001b[0m: received 0 items of ancdata"
     ]
    }
   ],
   "source": [
    "# get all data set\n",
    "def readdata(loader):\n",
    "    X,y = [],[]\n",
    "    i = 0\n",
    "    for images, labels in loader:\n",
    "        i+=1\n",
    "        X.append(images)\n",
    "        y.append(labels)\n",
    "        if i%400 == 0:\n",
    "            print(i,end ='\\t')\n",
    "    return torch.cat(X,axis=0),torch.cat(y,axis=0)\n",
    "train_X,train_y = readdata(trainloader)\n",
    "test_X,test_y = readdata(testloader)\n"
   ]
  },
  {
   "cell_type": "code",
   "execution_count": 3,
   "metadata": {
    "ExecuteTime": {
     "end_time": "2019-11-21T06:38:26.510585Z",
     "start_time": "2019-11-21T06:38:26.500705Z"
    }
   },
   "outputs": [
    {
     "data": {
      "text/plain": [
       "(torch.Size([1600, 3, 32, 32]), torch.Size([1600]))"
      ]
     },
     "execution_count": 3,
     "metadata": {},
     "output_type": "execute_result"
    }
   ],
   "source": [
    "train_X.shape,train_y.shape"
   ]
  },
  {
   "cell_type": "code",
   "execution_count": 18,
   "metadata": {
    "ExecuteTime": {
     "end_time": "2019-11-21T06:24:19.430427Z",
     "start_time": "2019-11-21T06:24:15.823923Z"
    },
    "collapsed": true
   },
   "outputs": [
    {
     "ename": "StopIteration",
     "evalue": "",
     "output_type": "error",
     "traceback": [
      "\u001b[0;31m---------------------------------------------------------------------------\u001b[0m",
      "\u001b[0;31mStopIteration\u001b[0m                             Traceback (most recent call last)",
      "\u001b[0;32m<ipython-input-18-5ec929f8d4a1>\u001b[0m in \u001b[0;36m<module>\u001b[0;34m\u001b[0m\n\u001b[1;32m      1\u001b[0m \u001b[0;32mfor\u001b[0m \u001b[0mi\u001b[0m \u001b[0;32min\u001b[0m \u001b[0mrange\u001b[0m\u001b[0;34m(\u001b[0m\u001b[0;36m30000\u001b[0m\u001b[0;34m)\u001b[0m\u001b[0;34m:\u001b[0m\u001b[0;34m\u001b[0m\u001b[0;34m\u001b[0m\u001b[0m\n\u001b[0;32m----> 2\u001b[0;31m     \u001b[0mdataiter\u001b[0m\u001b[0;34m.\u001b[0m\u001b[0mnext\u001b[0m\u001b[0;34m(\u001b[0m\u001b[0;34m)\u001b[0m\u001b[0;34m\u001b[0m\u001b[0;34m\u001b[0m\u001b[0m\n\u001b[0m",
      "\u001b[0;32m/usr/lib/python3.8/site-packages/torch/utils/data/dataloader.py\u001b[0m in \u001b[0;36m__next__\u001b[0;34m(self)\u001b[0m\n\u001b[1;32m    792\u001b[0m                 \u001b[0;31m# no valid `self._rcvd_idx` is found (i.e., didn't break)\u001b[0m\u001b[0;34m\u001b[0m\u001b[0;34m\u001b[0m\u001b[0;34m\u001b[0m\u001b[0m\n\u001b[1;32m    793\u001b[0m                 \u001b[0mself\u001b[0m\u001b[0;34m.\u001b[0m\u001b[0m_shutdown_workers\u001b[0m\u001b[0;34m(\u001b[0m\u001b[0;34m)\u001b[0m\u001b[0;34m\u001b[0m\u001b[0;34m\u001b[0m\u001b[0m\n\u001b[0;32m--> 794\u001b[0;31m                 \u001b[0;32mraise\u001b[0m \u001b[0mStopIteration\u001b[0m\u001b[0;34m\u001b[0m\u001b[0;34m\u001b[0m\u001b[0m\n\u001b[0m\u001b[1;32m    795\u001b[0m \u001b[0;34m\u001b[0m\u001b[0m\n\u001b[1;32m    796\u001b[0m             \u001b[0;31m# Now `self._rcvd_idx` is the batch index we want to fetch\u001b[0m\u001b[0;34m\u001b[0m\u001b[0;34m\u001b[0m\u001b[0;34m\u001b[0m\u001b[0m\n",
      "\u001b[0;31mStopIteration\u001b[0m: "
     ]
    }
   ],
   "source": [
    "for i in range(30000):\n",
    "    dataiter.next()"
   ]
  },
  {
   "cell_type": "code",
   "execution_count": 19,
   "metadata": {
    "ExecuteTime": {
     "end_time": "2019-11-21T06:24:23.055799Z",
     "start_time": "2019-11-21T06:24:23.047123Z"
    }
   },
   "outputs": [
    {
     "ename": "StopIteration",
     "evalue": "",
     "output_type": "error",
     "traceback": [
      "\u001b[0;31m---------------------------------------------------------------------------\u001b[0m",
      "\u001b[0;31mStopIteration\u001b[0m                             Traceback (most recent call last)",
      "\u001b[0;32m<ipython-input-19-ebba3a8e6d3c>\u001b[0m in \u001b[0;36m<module>\u001b[0;34m\u001b[0m\n\u001b[0;32m----> 1\u001b[0;31m \u001b[0mdataiter\u001b[0m\u001b[0;34m.\u001b[0m\u001b[0mnext\u001b[0m\u001b[0;34m(\u001b[0m\u001b[0;34m)\u001b[0m\u001b[0;34m\u001b[0m\u001b[0;34m\u001b[0m\u001b[0m\n\u001b[0m",
      "\u001b[0;32m/usr/lib/python3.8/site-packages/torch/utils/data/dataloader.py\u001b[0m in \u001b[0;36m__next__\u001b[0;34m(self)\u001b[0m\n\u001b[1;32m    792\u001b[0m                 \u001b[0;31m# no valid `self._rcvd_idx` is found (i.e., didn't break)\u001b[0m\u001b[0;34m\u001b[0m\u001b[0;34m\u001b[0m\u001b[0;34m\u001b[0m\u001b[0m\n\u001b[1;32m    793\u001b[0m                 \u001b[0mself\u001b[0m\u001b[0;34m.\u001b[0m\u001b[0m_shutdown_workers\u001b[0m\u001b[0;34m(\u001b[0m\u001b[0;34m)\u001b[0m\u001b[0;34m\u001b[0m\u001b[0;34m\u001b[0m\u001b[0m\n\u001b[0;32m--> 794\u001b[0;31m                 \u001b[0;32mraise\u001b[0m \u001b[0mStopIteration\u001b[0m\u001b[0;34m\u001b[0m\u001b[0;34m\u001b[0m\u001b[0m\n\u001b[0m\u001b[1;32m    795\u001b[0m \u001b[0;34m\u001b[0m\u001b[0m\n\u001b[1;32m    796\u001b[0m             \u001b[0;31m# Now `self._rcvd_idx` is the batch index we want to fetch\u001b[0m\u001b[0;34m\u001b[0m\u001b[0;34m\u001b[0m\u001b[0;34m\u001b[0m\u001b[0m\n",
      "\u001b[0;31mStopIteration\u001b[0m: "
     ]
    }
   ],
   "source": [
    "dataiter.next()"
   ]
  },
  {
   "cell_type": "code",
   "execution_count": 10,
   "metadata": {
    "ExecuteTime": {
     "end_time": "2019-11-21T05:03:59.615911Z",
     "start_time": "2019-11-21T05:03:59.596543Z"
    }
   },
   "outputs": [
    {
     "data": {
      "text/plain": [
       "tensor([[[[-0.2314, -0.0275,  0.0667,  ..., -0.1216, -0.2000,  0.1137],\n",
       "          [-0.2784, -0.4745, -0.5608,  ..., -0.0118, -0.0588,  0.2471],\n",
       "          [-0.4902, -0.5686, -0.4980,  ..., -0.0431, -0.0588,  0.2627],\n",
       "          ...,\n",
       "          [ 0.5451,  0.5529,  0.5608,  ...,  0.3490,  0.0667,  0.3098],\n",
       "          [ 0.5216,  0.5216,  0.5294,  ...,  0.4275,  0.3569,  0.5137],\n",
       "          [ 0.6941,  0.6706,  0.6706,  ...,  0.6549,  0.6078,  0.7020]],\n",
       "\n",
       "         [[-0.1686, -0.0196,  0.0196,  ..., -0.0667, -0.1451,  0.1529],\n",
       "          [-0.2392, -0.4588, -0.5608,  ...,  0.0745,  0.0039,  0.2863],\n",
       "          [-0.6000, -0.6863, -0.6157,  ...,  0.0667,  0.0039,  0.2941],\n",
       "          ...,\n",
       "          [ 0.3725,  0.3569,  0.3490,  ...,  0.1765, -0.0824,  0.2157],\n",
       "          [ 0.3490,  0.3333,  0.3255,  ...,  0.2471,  0.2078,  0.4275],\n",
       "          [ 0.5765,  0.5451,  0.5451,  ...,  0.5137,  0.4902,  0.6471]],\n",
       "\n",
       "         [[-0.3490, -0.1608, -0.0824,  ..., -0.3490, -0.4353, -0.0510],\n",
       "          [-0.4118, -0.5843, -0.6471,  ..., -0.2627, -0.3255,  0.0745],\n",
       "          [-0.7255, -0.7647, -0.6706,  ..., -0.3020, -0.3412,  0.0824],\n",
       "          ...,\n",
       "          [ 0.2078,  0.1843,  0.1529,  ...,  0.0588, -0.1922,  0.1137],\n",
       "          [ 0.1686,  0.1451,  0.1294,  ...,  0.1294,  0.1059,  0.3569],\n",
       "          [ 0.4431,  0.4118,  0.4118,  ...,  0.4196,  0.4118,  0.6314]]],\n",
       "\n",
       "\n",
       "        [[[ 0.1451,  0.4902,  0.4980,  ..., -1.0000, -1.0000, -1.0000],\n",
       "          [ 0.2078,  0.4745,  0.4275,  ..., -0.9922, -0.9765, -0.9765],\n",
       "          [ 0.2392,  0.2863,  0.3098,  ..., -0.9686, -0.9529, -0.9608],\n",
       "          ...,\n",
       "          [ 0.2706,  0.4980,  0.6078,  ..., -1.0000, -1.0000, -1.0000],\n",
       "          [ 0.7804,  0.8353,  0.8510,  ..., -1.0000, -0.9843, -0.9922],\n",
       "          [ 0.7961,  0.7882,  0.8275,  ..., -0.9922, -0.9451, -0.9765]],\n",
       "\n",
       "         [[ 0.4275,  0.7020,  0.6941,  ..., -0.4667, -0.4980, -0.5294],\n",
       "          [ 0.4667,  0.6471,  0.5843,  ..., -0.3804, -0.3882, -0.4118],\n",
       "          [ 0.4745,  0.4353,  0.4431,  ..., -0.3176, -0.3255, -0.3569],\n",
       "          ...,\n",
       "          [ 0.3882,  0.6314,  0.7412,  ..., -1.0000, -1.0000, -1.0000],\n",
       "          [ 0.8902,  0.9529,  0.9686,  ..., -0.9922, -0.9765, -0.9843],\n",
       "          [ 0.9137,  0.9059,  0.9451,  ..., -0.9922, -0.9373, -0.9608]],\n",
       "\n",
       "         [[ 0.7098,  0.9686,  0.9373,  ..., -0.0275, -0.0431, -0.0667],\n",
       "          [ 0.7176,  0.8902,  0.8196,  ...,  0.0902,  0.0667,  0.0353],\n",
       "          [ 0.7020,  0.6706,  0.6627,  ...,  0.1765,  0.1137,  0.0824],\n",
       "          ...,\n",
       "          [ 0.5608,  0.7098,  0.7882,  ..., -0.8588, -0.8118, -0.7882],\n",
       "          [ 0.9765,  0.9765,  0.9765,  ..., -0.8824, -0.8275, -0.8275],\n",
       "          [ 0.9529,  0.9059,  0.9451,  ..., -0.8902, -0.8196, -0.8353]]],\n",
       "\n",
       "\n",
       "        [[[ 0.6000,  0.3804,  0.4118,  ...,  0.6863,  0.5216,  0.4824],\n",
       "          [ 0.6314,  0.5294,  0.5373,  ...,  0.6706,  0.4824,  0.4510],\n",
       "          [ 0.5529,  0.5608,  0.5686,  ...,  0.6235,  0.4588,  0.4588],\n",
       "          ...,\n",
       "          [ 0.1137,  0.0980,  0.1059,  ...,  0.3804,  0.5608,  0.5059],\n",
       "          [ 0.2000,  0.2000,  0.2078,  ...,  0.5294,  0.7961,  0.8275],\n",
       "          [ 0.2784,  0.2471,  0.2235,  ...,  0.5137,  0.8353,  0.8118]],\n",
       "\n",
       "         [[ 0.6627,  0.4431,  0.4745,  ...,  0.7020,  0.5529,  0.5294],\n",
       "          [ 0.6941,  0.5922,  0.6000,  ...,  0.6863,  0.5137,  0.4980],\n",
       "          [ 0.6157,  0.6235,  0.6314,  ...,  0.6392,  0.4824,  0.4980],\n",
       "          ...,\n",
       "          [ 0.0431,  0.0275,  0.0275,  ...,  0.2000,  0.3804,  0.3569],\n",
       "          [ 0.0824,  0.0902,  0.0902,  ...,  0.3412,  0.5765,  0.6235],\n",
       "          [ 0.1451,  0.1216,  0.0902,  ...,  0.3490,  0.6627,  0.6471]],\n",
       "\n",
       "         [[ 0.6863,  0.4667,  0.4902,  ...,  0.6941,  0.5373,  0.5137],\n",
       "          [ 0.7176,  0.6157,  0.6157,  ...,  0.6784,  0.5059,  0.4980],\n",
       "          [ 0.6471,  0.6471,  0.6549,  ...,  0.6314,  0.4902,  0.5294],\n",
       "          ...,\n",
       "          [-0.0902, -0.0980, -0.0902,  ..., -0.0667,  0.0745,  0.0824],\n",
       "          [-0.0824, -0.0745, -0.0667,  ...,  0.0667,  0.2235,  0.2863],\n",
       "          [-0.0353, -0.0588, -0.0902,  ...,  0.0980,  0.3490,  0.3020]]],\n",
       "\n",
       "\n",
       "        ...,\n",
       "\n",
       "\n",
       "        [[[ 0.1451,  0.4902,  0.4980,  ..., -1.0000, -1.0000, -1.0000],\n",
       "          [ 0.2078,  0.4745,  0.4275,  ..., -0.9922, -0.9765, -0.9765],\n",
       "          [ 0.2392,  0.2863,  0.3098,  ..., -0.9686, -0.9529, -0.9608],\n",
       "          ...,\n",
       "          [ 0.2706,  0.4980,  0.6078,  ..., -1.0000, -1.0000, -1.0000],\n",
       "          [ 0.7804,  0.8353,  0.8510,  ..., -1.0000, -0.9843, -0.9922],\n",
       "          [ 0.7961,  0.7882,  0.8275,  ..., -0.9922, -0.9451, -0.9765]],\n",
       "\n",
       "         [[ 0.4275,  0.7020,  0.6941,  ..., -0.4667, -0.4980, -0.5294],\n",
       "          [ 0.4667,  0.6471,  0.5843,  ..., -0.3804, -0.3882, -0.4118],\n",
       "          [ 0.4745,  0.4353,  0.4431,  ..., -0.3176, -0.3255, -0.3569],\n",
       "          ...,\n",
       "          [ 0.3882,  0.6314,  0.7412,  ..., -1.0000, -1.0000, -1.0000],\n",
       "          [ 0.8902,  0.9529,  0.9686,  ..., -0.9922, -0.9765, -0.9843],\n",
       "          [ 0.9137,  0.9059,  0.9451,  ..., -0.9922, -0.9373, -0.9608]],\n",
       "\n",
       "         [[ 0.7098,  0.9686,  0.9373,  ..., -0.0275, -0.0431, -0.0667],\n",
       "          [ 0.7176,  0.8902,  0.8196,  ...,  0.0902,  0.0667,  0.0353],\n",
       "          [ 0.7020,  0.6706,  0.6627,  ...,  0.1765,  0.1137,  0.0824],\n",
       "          ...,\n",
       "          [ 0.5608,  0.7098,  0.7882,  ..., -0.8588, -0.8118, -0.7882],\n",
       "          [ 0.9765,  0.9765,  0.9765,  ..., -0.8824, -0.8275, -0.8275],\n",
       "          [ 0.9529,  0.9059,  0.9451,  ..., -0.8902, -0.8196, -0.8353]]],\n",
       "\n",
       "\n",
       "        [[[ 0.6000,  0.3804,  0.4118,  ...,  0.6863,  0.5216,  0.4824],\n",
       "          [ 0.6314,  0.5294,  0.5373,  ...,  0.6706,  0.4824,  0.4510],\n",
       "          [ 0.5529,  0.5608,  0.5686,  ...,  0.6235,  0.4588,  0.4588],\n",
       "          ...,\n",
       "          [ 0.1137,  0.0980,  0.1059,  ...,  0.3804,  0.5608,  0.5059],\n",
       "          [ 0.2000,  0.2000,  0.2078,  ...,  0.5294,  0.7961,  0.8275],\n",
       "          [ 0.2784,  0.2471,  0.2235,  ...,  0.5137,  0.8353,  0.8118]],\n",
       "\n",
       "         [[ 0.6627,  0.4431,  0.4745,  ...,  0.7020,  0.5529,  0.5294],\n",
       "          [ 0.6941,  0.5922,  0.6000,  ...,  0.6863,  0.5137,  0.4980],\n",
       "          [ 0.6157,  0.6235,  0.6314,  ...,  0.6392,  0.4824,  0.4980],\n",
       "          ...,\n",
       "          [ 0.0431,  0.0275,  0.0275,  ...,  0.2000,  0.3804,  0.3569],\n",
       "          [ 0.0824,  0.0902,  0.0902,  ...,  0.3412,  0.5765,  0.6235],\n",
       "          [ 0.1451,  0.1216,  0.0902,  ...,  0.3490,  0.6627,  0.6471]],\n",
       "\n",
       "         [[ 0.6863,  0.4667,  0.4902,  ...,  0.6941,  0.5373,  0.5137],\n",
       "          [ 0.7176,  0.6157,  0.6157,  ...,  0.6784,  0.5059,  0.4980],\n",
       "          [ 0.6471,  0.6471,  0.6549,  ...,  0.6314,  0.4902,  0.5294],\n",
       "          ...,\n",
       "          [-0.0902, -0.0980, -0.0902,  ..., -0.0667,  0.0745,  0.0824],\n",
       "          [-0.0824, -0.0745, -0.0667,  ...,  0.0667,  0.2235,  0.2863],\n",
       "          [-0.0353, -0.0588, -0.0902,  ...,  0.0980,  0.3490,  0.3020]]],\n",
       "\n",
       "\n",
       "        [[[-0.3647, -0.3804, -0.3882,  ..., -0.7176, -0.7176, -0.7255],\n",
       "          [-0.3176, -0.3020, -0.3490,  ..., -0.6706, -0.6863, -0.6941],\n",
       "          [-0.1451, -0.2000, -0.2392,  ..., -0.6627, -0.6706, -0.6784],\n",
       "          ...,\n",
       "          [-0.1843, -0.2157, -0.2314,  ..., -0.4196, -0.6471, -0.7255],\n",
       "          [-0.2549, -0.2549, -0.2784,  ..., -0.6706, -0.5216, -0.5137],\n",
       "          [-0.5922, -0.5765, -0.5451,  ..., -0.5922, -0.4275, -0.6078]],\n",
       "\n",
       "         [[-0.3647, -0.3882, -0.3961,  ..., -0.8039, -0.8118, -0.8196],\n",
       "          [-0.4196, -0.4353, -0.4745,  ..., -0.7804, -0.7882, -0.8039],\n",
       "          [-0.3020, -0.3647, -0.4118,  ..., -0.7882, -0.7961, -0.8039],\n",
       "          ...,\n",
       "          [-0.4745, -0.4902, -0.5059,  ..., -0.5059, -0.6627, -0.7255],\n",
       "          [-0.5216, -0.5216, -0.5373,  ..., -0.6941, -0.4588, -0.4980],\n",
       "          [-0.6941, -0.6784, -0.6471,  ..., -0.5843, -0.3882, -0.6000]],\n",
       "\n",
       "         [[-0.3098, -0.3569, -0.3647,  ..., -0.8510, -0.8510, -0.8667],\n",
       "          [-0.4588, -0.4980, -0.5451,  ..., -0.8431, -0.8510, -0.8588],\n",
       "          [-0.3569, -0.4275, -0.4588,  ..., -0.8510, -0.8667, -0.8745],\n",
       "          ...,\n",
       "          [-0.7020, -0.7098, -0.7176,  ..., -0.6000, -0.6392, -0.6549],\n",
       "          [-0.7255, -0.7255, -0.7412,  ..., -0.7255, -0.4275, -0.3961],\n",
       "          [-0.7725, -0.7804, -0.7412,  ..., -0.5922, -0.3098, -0.5373]]]])"
      ]
     },
     "execution_count": 10,
     "metadata": {},
     "output_type": "execute_result"
    }
   ],
   "source": []
  },
  {
   "cell_type": "code",
   "execution_count": null,
   "metadata": {},
   "outputs": [],
   "source": []
  }
 ],
 "metadata": {
  "kernelspec": {
   "display_name": "Python 3",
   "language": "python",
   "name": "python3"
  },
  "language_info": {
   "codemirror_mode": {
    "name": "ipython",
    "version": 3
   },
   "file_extension": ".py",
   "mimetype": "text/x-python",
   "name": "python",
   "nbconvert_exporter": "python",
   "pygments_lexer": "ipython3",
   "version": "3.8.0"
  },
  "latex_envs": {
   "LaTeX_envs_menu_present": true,
   "autoclose": false,
   "autocomplete": true,
   "bibliofile": "biblio.bib",
   "cite_by": "apalike",
   "current_citInitial": 1,
   "eqLabelWithNumbers": true,
   "eqNumInitial": 1,
   "hotkeys": {
    "equation": "Ctrl-E",
    "itemize": "Ctrl-I"
   },
   "labels_anchors": false,
   "latex_user_defs": false,
   "report_style_numbering": false,
   "user_envs_cfg": false
  }
 },
 "nbformat": 4,
 "nbformat_minor": 2
}
